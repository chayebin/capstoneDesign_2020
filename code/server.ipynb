{
 "cells": [
  {
   "cell_type": "markdown",
   "metadata": {},
   "source": [
    "## 코드 실행 방법 : 컨트롤 + 앤터"
   ]
  },
  {
   "cell_type": "code",
   "execution_count": null,
   "metadata": {},
   "outputs": [],
   "source": [
    "# 코드 실행해서 다운로드(다운은 한번만 하면 됨)\n",
    "!pip install flask\n",
    "!pip install xgboost"
   ]
  },
  {
   "cell_type": "code",
   "execution_count": 1,
   "metadata": {},
   "outputs": [
    {
     "name": "stdout",
     "output_type": "stream",
     "text": [
      " * Serving Flask app \"__main__\" (lazy loading)\n",
      " * Environment: production\n",
      "   WARNING: This is a development server. Do not use it in a production deployment.\n",
      "   Use a production WSGI server instead.\n",
      " * Debug mode: off\n"
     ]
    },
    {
     "name": "stderr",
     "output_type": "stream",
     "text": [
      " * Running on http://127.0.0.1:5000/ (Press CTRL+C to quit)\n"
     ]
    }
   ],
   "source": [
    "# 실행 후 밑에 url 클릭\n",
    "\n",
    "# -*- coding : utf-8 -*- \n",
    "\n",
    "# 필요한 라이브러리 \n",
    "from flask import Flask, render_template, request\n",
    "import pandas as pd\n",
    "import numpy as np\n",
    "from sklearn.model_selection import train_test_split\n",
    "from sklearn.metrics import mean_squared_error\n",
    "from xgboost import XGBRegressor\n",
    "\n",
    "# 데이터 불러오기\n",
    "real = pd.read_csv(\"모기데이터2.csv\")\n",
    "train = pd.read_csv(\"train4.csv\")\n",
    "test = pd.read_csv(\"test4.csv\")\n",
    "\n",
    "# 데이터 수정\n",
    "date = test['date']\n",
    "del train['date']\n",
    "del test['date']\n",
    "\n",
    "# train, test 값 지정\n",
    "X_train = train.iloc[:,:-1]\n",
    "y_train = train.iloc[:,-1]\n",
    "X_test = test\n",
    "y_test = pd.read_csv('result4.csv')\n",
    "\n",
    "# 모델 파라미터 설정 및 적용\n",
    "model = XGBRegressor(base_score=0.5, colsample_bylevel=0.88, colsample_bynode=1,\n",
    "                         gamma=2, gpu_id=-1, n_estimators=130,\n",
    "                         interaction_constraints='', learning_rate=0.019, \n",
    "                         max_depth=3, subsample=1, validate_parameters=1) \n",
    "model.fit(X_train, y_train)\n",
    "\n",
    "mid = 2500\n",
    "\n",
    "# 플라스크 실행\n",
    "app = Flask(__name__)\n",
    "\n",
    "@app.route(\"/\", methods = ['GET','POST'])\n",
    "def index() :\n",
    "    if request.method == 'GET' :\n",
    "        return render_template('index.html')\n",
    "    if request.method == 'POST' :\n",
    "        month_input = float(request.form['month_input'])\n",
    "        day_input = float(request.form['day_input'])\n",
    "        temp_input = float(request.form['temp_input'])\n",
    "        htemp_input = float(request.form['htemp_input'])\n",
    "        ltemp_input = float(request.form['ltemp_input'])\n",
    "        dcross_input = float(request.form['dcross_input'])\n",
    "        rain_input = float(request.form['rain_input'])\n",
    "        wind_input = float(request.form['wind_input'])\n",
    "        humi_input = float(request.form['humi_input'])\n",
    "        cloud_input = float(request.form['cloud_input'])\n",
    "        sunlight_input = float(request.form['sunlight_input'])\n",
    "        sunset_input = float(request.form['sunset_input'])\n",
    "        \n",
    "    price_value = 0\n",
    "    \n",
    "    data = (month_input, day_input, temp_input, htemp_input, ltemp_input,dcross_input, \n",
    "            rain_input, wind_input, humi_input, cloud_input, sunlight_input, sunset_input)\n",
    "    X_test = np.array(data)\n",
    "    X_test = pd.DataFrame([X_test], columns=['month','day', 'temp', 'htemp', 'ltemp', 'dcross', 'rain', 'wind', 'humi', 'cloud', 'sunlight','sunset'])\n",
    "    y_predict = model.predict(X_test)\n",
    "    price_value = y_predict[0]\n",
    "    \n",
    "    if price_value <= mid*0.5 :\n",
    "        price = '쾌적'\n",
    "    elif price_value <= mid :\n",
    "        price = '관심'\n",
    "    elif price_value <= mid*1.5:\n",
    "        price = '주의'\n",
    "    else :\n",
    "        price = '불쾌'\n",
    "        \n",
    "    return render_template('index.html', price = price, price_value = price_value)\n",
    "\n",
    "if __name__ == \"__main__\" :\n",
    "    app.run()"
   ]
  },
  {
   "cell_type": "code",
   "execution_count": null,
   "metadata": {},
   "outputs": [],
   "source": []
  },
  {
   "cell_type": "code",
   "execution_count": null,
   "metadata": {},
   "outputs": [],
   "source": []
  }
 ],
 "metadata": {
  "kernelspec": {
   "display_name": "Python 3",
   "language": "python",
   "name": "python3"
  },
  "language_info": {
   "codemirror_mode": {
    "name": "ipython",
    "version": 3
   },
   "file_extension": ".py",
   "mimetype": "text/x-python",
   "name": "python",
   "nbconvert_exporter": "python",
   "pygments_lexer": "ipython3",
   "version": "3.8.3"
  }
 },
 "nbformat": 4,
 "nbformat_minor": 4
}
